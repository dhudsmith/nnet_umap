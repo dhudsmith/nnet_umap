{
 "cells": [
  {
   "cell_type": "code",
   "execution_count": 1,
   "metadata": {
    "colab": {
     "base_uri": "https://localhost:8080/"
    },
    "executionInfo": {
     "elapsed": 24708,
     "status": "ok",
     "timestamp": 1615439111127,
     "user": {
      "displayName": "Danny Saad",
      "photoUrl": "",
      "userId": "08768728463630714575"
     },
     "user_tz": 300
    },
    "id": "AU_4qqlsD8oe",
    "outputId": "d8982996-9afe-4463-8186-9f96cf56b1a8"
   },
   "outputs": [],
   "source": [
    "# Library imports\n",
    "import numpy as np\n",
    "import pandas as pd\n",
    "import argparse\n",
    "import torch\n",
    "import torch.nn as nn\n",
    "import torch.nn.functional as F\n",
    "import torch.optim as optim\n",
    "from torchvision import datasets, transforms\n",
    "from torch.optim.lr_scheduler import StepLR\n",
    "import matplotlib.pyplot as plt\n",
    "from matplotlib import rcParams\n",
    "from PIL import Image\n",
    "import math\n",
    "from collections import OrderedDict\n",
    "\n",
    "import umap\n",
    "import umap.plot\n",
    "from torch.utils.data import Dataset, DataLoader\n",
    "from torchvision import utils\n",
    "\n",
    "from arch.VAE import Encoder"
   ]
  },
  {
   "cell_type": "code",
   "execution_count": 2,
   "metadata": {},
   "outputs": [],
   "source": [
    "rcParams['figure.dpi']=400"
   ]
  },
  {
   "cell_type": "markdown",
   "metadata": {
    "id": "ZGZ9jk2zQhRm"
   },
   "source": [
    "# The Data"
   ]
  },
  {
   "cell_type": "code",
   "execution_count": 3,
   "metadata": {
    "colab": {
     "base_uri": "https://localhost:8080/",
     "height": 391,
     "referenced_widgets": [
      "f121289fe6014cddbdd68e642538d452",
      "847e04e040f64a6282cb5a648ad712f9",
      "5614716f142843148e2e23482ffb2f82",
      "fb5d80053df1495392d95a8db355ed63",
      "efa8aa0e6fc0445787294d2f6b5a0ddb",
      "4dff4d919b2a478896996b3331bd136a",
      "9fe90e309cd9429891fc1ea2ffd7228d",
      "214497818dad447bbea1ead62155041c",
      "35469ea2b57a4d5aaa903d010c9c371c",
      "543786e7602d4e14821378d20e80a915",
      "649771a8bb524df6b44b216cca5e9d51",
      "45ddae6810954b59a993eb289bef6e6f",
      "f565add4b8c146b9919153ca87da3545",
      "6c41c0323e314eb4a6d710b4e21b36b0",
      "627907c9e8c8491b9f97f23cc067c038",
      "30338ead3a9644dcb048de47a60e8143",
      "52e39424474f4cadbc8d108137856100",
      "440a4e03df8d4d0f8e67312edd77b228",
      "612eb9f77c1a4cb9b6f25c621fb86817",
      "4073764fd5a440a28b97ac2ed1cc9db5",
      "2db75713acf74169acbbfcf86b6c87a0",
      "da53ea1b8ef14d8ca099052666155532",
      "031265afa26d4ec6b1ab5c7cff988cdb",
      "47513adb9d0948dc8f5f096d0d0c867b",
      "550a1d3a77384717822334ee79a54210",
      "04de8f0749fe4c29b4b4076beee8f55b",
      "a8f285b82065482982d270b7d5fec723",
      "2f74c334e79d4c48aea98fbc16a57c23",
      "8b3deb1d17b845de842b950483274fe3",
      "86703ac3319b4b00bae27cf8762b4940",
      "4edf3c6005b7431a9fd22f16fd418624",
      "f460a9421b534ce7a27a9e447f274201"
     ]
    },
    "executionInfo": {
     "elapsed": 95699,
     "status": "ok",
     "timestamp": 1614871844071,
     "user": {
      "displayName": "Dane Smith",
      "photoUrl": "",
      "userId": "04907521039862763062"
     },
     "user_tz": 300
    },
    "id": "v1lVPAh3D8r-",
    "outputId": "5a368107-c531-4264-ae30-79cd804dd2f6"
   },
   "outputs": [
    {
     "name": "stdout",
     "output_type": "stream",
     "text": [
      "Device: cuda\n"
     ]
    }
   ],
   "source": [
    "# data settings:\n",
    "batch_size=128 #input batch size for training (default: 64)\n",
    "batch_size_test=1000 \n",
    "\n",
    "# misc settings\n",
    "no_cuda=False #disables CUDA training (default: True)\n",
    "use_cuda = not no_cuda and torch.cuda.is_available()\n",
    "device = torch.device(\"cuda\" if use_cuda else \"cpu\")\n",
    "print(\"Device:\", device)\n",
    "\n",
    "kwargs = {'num_workers': 1, 'pin_memory': True} if use_cuda else {}\n",
    "\n",
    "scale_mu = 0.5\n",
    "scale_sd = 0.5\n",
    "\n",
    "# datasets\n",
    "data = datasets.FashionMNIST('../data', train=True, download=False,\n",
    "                    transform=transforms.Compose([\n",
    "                        transforms.ToTensor(),\n",
    "                        transforms.Normalize((scale_mu,), (scale_sd,))\n",
    "                    ]))\n",
    "\n",
    "# Data Loaders\n",
    "loader = torch.utils.data.DataLoader(dataset=data, batch_size=batch_size_test, shuffle=True)"
   ]
  },
  {
   "cell_type": "markdown",
   "metadata": {
    "id": "QpmmEdSYQeQ0"
   },
   "source": [
    "# Define the Encoder"
   ]
  },
  {
   "cell_type": "code",
   "execution_count": 4,
   "metadata": {
    "colab": {
     "base_uri": "https://localhost:8080/"
    },
    "executionInfo": {
     "elapsed": 581,
     "status": "ok",
     "timestamp": 1614872139332,
     "user": {
      "displayName": "Dane Smith",
      "photoUrl": "",
      "userId": "04907521039862763062"
     },
     "user_tz": 300
    },
    "id": "_UBG7t6bbP69",
    "outputId": "031c93f9-cb88-48bd-9040-df171810aa0a"
   },
   "outputs": [
    {
     "name": "stdout",
     "output_type": "stream",
     "text": [
      "Number of free parameters:  2864\n"
     ]
    }
   ],
   "source": [
    "enc = Encoder(coarse_resolution=(4,4)).to(device)\n",
    "print(\"Number of free parameters: \", sum(p.numel() for p in enc.parameters() if p.requires_grad))"
   ]
  },
  {
   "cell_type": "code",
   "execution_count": 5,
   "metadata": {},
   "outputs": [
    {
     "data": {
      "text/plain": [
       "<All keys matched successfully>"
      ]
     },
     "execution_count": 5,
     "metadata": {},
     "output_type": "execute_result"
    }
   ],
   "source": [
    "enc.load_state_dict(torch.load('../models/fashion_mnist_encoder.pt'))"
   ]
  },
  {
   "cell_type": "markdown",
   "metadata": {
    "id": "Ry3hyYFB0Czi"
   },
   "source": [
    "# Get the encodings for all images"
   ]
  },
  {
   "cell_type": "code",
   "execution_count": 6,
   "metadata": {
    "id": "YxgiIxeFAGJV"
   },
   "outputs": [],
   "source": [
    "enc.eval()\n",
    "encodings = []\n",
    "targets = []\n",
    "with torch.no_grad():\n",
    "    for images, trg in loader:\n",
    "        images = images.to(device)\n",
    "        encodings.append(enc(images))\n",
    "        targets.append(trg)\n",
    "            \n",
    "encodings = torch.cat(encodings).cpu().numpy()\n",
    "targets = torch.cat(targets).cpu().numpy()"
   ]
  },
  {
   "cell_type": "code",
   "execution_count": 7,
   "metadata": {},
   "outputs": [
    {
     "name": "stdout",
     "output_type": "stream",
     "text": [
      "(60000, 256) (60000,)\n"
     ]
    }
   ],
   "source": [
    "print(encodings.shape, targets.shape)"
   ]
  },
  {
   "cell_type": "markdown",
   "metadata": {
    "id": "m5u61YlL0BFQ"
   },
   "source": [
    "# UMAP"
   ]
  },
  {
   "cell_type": "code",
   "execution_count": 8,
   "metadata": {},
   "outputs": [],
   "source": [
    "targets = targets.astype(str)"
   ]
  },
  {
   "cell_type": "code",
   "execution_count": 9,
   "metadata": {
    "id": "90ijHHX50rlC"
   },
   "outputs": [],
   "source": [
    "num=60000\n",
    "mapper = umap.UMAP().fit(encodings[:num])"
   ]
  },
  {
   "cell_type": "markdown",
   "metadata": {},
   "source": [
    "### Plot settings"
   ]
  },
  {
   "cell_type": "code",
   "execution_count": 31,
   "metadata": {},
   "outputs": [],
   "source": [
    "#connectivity(mapper, edge_bundling='hammer', labels = targets[:num], show_points=True, height=4096, width=4096, theme='darkgreen', pointsize=45)\n",
    "umap_object=mapper\n",
    "edge_bundling='hammer'\n",
    "labels=targets[:num]\n",
    "show_points=True\n",
    "theme='fire'\n",
    "width=12000\n",
    "height=12000\n",
    "pointsize=300\n",
    "name='umap_'+theme\n",
    "\n",
    "\"\"\"Plot connectivity relationships of the underlying UMAP\n",
    "simplicial set data structure. Internally UMAP will make\n",
    "use of what can be viewed as a weighted graph. This graph\n",
    "can be plotted using the layout provided by UMAP as a\n",
    "potential diagnostic view of the embedding. Currently this only works\n",
    "for 2D embeddings. While there are many optional parameters\n",
    "to further control and tailor the plotting, you need only\n",
    "pass in the trained/fit umap model to get results. This plot\n",
    "utility will attempt to do the hard work of avoiding\n",
    "overplotting issues and provide options for plotting the\n",
    "points as well as using edge bundling for graph visualization.\n",
    "Parameters\n",
    "----------\n",
    "umap_object: trained UMAP object\n",
    "    A trained UMAP object that has a 2D embedding.\n",
    "edge_bundling: string or None (optional, default None)\n",
    "    The edge bundling method to use. Currently supported\n",
    "    are None or 'hammer'. See the datashader docs\n",
    "    on graph visualization for more details.\n",
    "edge_cmap: string (default 'gray_r')\n",
    "    The name of a matplotlib colormap to use for shading/\n",
    "    coloring the edges of the connectivity graph. Note that\n",
    "    the ``theme``, if specified, will override this.\n",
    "show_points: bool (optional False)\n",
    "    Whether to display the points over top of the edge\n",
    "    connectivity. Further options allow for coloring/\n",
    "    shading the points accordingly.\n",
    "labels: array, shape (n_samples,) (optional, default None)\n",
    "    An array of labels (assumed integer or categorical),\n",
    "    one for each data sample.\n",
    "    This will be used for coloring the points in\n",
    "    the plot according to their label. Note that\n",
    "    this option is mutually exclusive to the ``values``\n",
    "    option.\n",
    "values: array, shape (n_samples,) (optional, default None)\n",
    "    An array of values (assumed float or continuous),\n",
    "    one for each sample.\n",
    "    This will be used for coloring the points in\n",
    "    the plot according to a colorscale associated\n",
    "    to the total range of values. Note that this\n",
    "    option is mutually exclusive to the ``labels``\n",
    "    option.\n",
    "theme: string (optional, default None)\n",
    "    A color theme to use for plotting. A small set of\n",
    "    predefined themes are provided which have relatively\n",
    "    good aesthetics. Available themes are:\n",
    "       * 'blue'\n",
    "       * 'red'\n",
    "       * 'green'\n",
    "       * 'inferno'\n",
    "       * 'fire'\n",
    "       * 'viridis'\n",
    "       * 'darkblue'\n",
    "       * 'darkred'\n",
    "       * 'darkgreen'\n",
    "cmap: string (optional, default 'Blues')\n",
    "    The name of a matplotlib colormap to use for coloring\n",
    "    or shading points. If no labels or values are passed\n",
    "    this will be used for shading points according to\n",
    "    density (largely only of relevance for very large\n",
    "    datasets). If values are passed this will be used for\n",
    "    shading according the value. Note that if theme\n",
    "    is passed then this value will be overridden by the\n",
    "    corresponding option of the theme.\n",
    "color_key: dict or array, shape (n_categories) (optional, default None)\n",
    "    A way to assign colors to categoricals. This can either be\n",
    "    an explicit dict mapping labels to colors (as strings of form\n",
    "    '#RRGGBB'), or an array like object providing one color for\n",
    "    each distinct category being provided in ``labels``. Either\n",
    "    way this mapping will be used to color points according to\n",
    "    the label. Note that if theme\n",
    "    is passed then this value will be overridden by the\n",
    "    corresponding option of the theme.\n",
    "color_key_cmap: string (optional, default 'Spectral')\n",
    "    The name of a matplotlib colormap to use for categorical coloring.\n",
    "    If an explicit ``color_key`` is not given a color mapping for\n",
    "    categories can be generated from the label list and selecting\n",
    "    a matching list of colors from the given colormap. Note\n",
    "    that if theme\n",
    "    is passed then this value will be overridden by the\n",
    "    corresponding option of the theme.\n",
    "background: string (optional, default 'white)\n",
    "    The color of the background. Usually this will be either\n",
    "    'white' or 'black', but any color name will work. Ideally\n",
    "    one wants to match this appropriately to the colors being\n",
    "    used for points etc. This is one of the things that themes\n",
    "    handle for you. Note that if theme\n",
    "    is passed then this value will be overridden by the\n",
    "    corresponding option of the theme.\n",
    "width: int (optional, default 800)\n",
    "    The desired width of the plot in pixels.\n",
    "height: int (optional, default 800)\n",
    "    The desired height of the plot in pixels\n",
    "Returns\n",
    "-------\n",
    "result: matplotlib axis\n",
    "    The result is a matplotlib axis with the relevant plot displayed.\n",
    "    If you are using a notbooks and have ``%matplotlib inline`` set\n",
    "    then this will simply display inline.\n",
    "\"\"\"\n",
    "import datashader as ds\n",
    "import datashader.bundling as bd\n",
    "import datashader.transfer_functions as tf\n",
    "from umap.plot import _get_embedding, _datashade_points, _select_font_color, _embed_datashader_in_an_axis, _themes\n",
    "from warnings import warn"
   ]
  },
  {
   "cell_type": "code",
   "execution_count": 32,
   "metadata": {},
   "outputs": [],
   "source": [
    "if theme is not None:\n",
    "    cmap = _themes[theme][\"cmap\"]\n",
    "    color_key_cmap = _themes[theme][\"color_key_cmap\"]\n",
    "    edge_cmap = _themes[theme][\"edge_cmap\"]\n",
    "    background = _themes[theme][\"background\"]"
   ]
  },
  {
   "cell_type": "markdown",
   "metadata": {},
   "source": [
    "### Get the points and edges"
   ]
  },
  {
   "cell_type": "code",
   "execution_count": 33,
   "metadata": {},
   "outputs": [],
   "source": [
    "points = _get_embedding(umap_object)\n",
    "point_df = pd.DataFrame(points, columns=(\"x\", \"y\"))\n",
    "\n",
    "point_size = pointsize#100.0 / np.sqrt(points.shape[0])\n",
    "if point_size > 1:\n",
    "    px_size = int(np.round(point_size))\n",
    "else:\n",
    "    px_size = 1\n",
    "\n",
    "if show_points:\n",
    "    edge_how = \"log\"\n",
    "else:\n",
    "    edge_how = \"eq_hist\""
   ]
  },
  {
   "cell_type": "code",
   "execution_count": 12,
   "metadata": {},
   "outputs": [],
   "source": [
    "coo_graph = umap_object.graph_.tocoo()\n",
    "edge_df = pd.DataFrame(\n",
    "    np.vstack([coo_graph.row, coo_graph.col, coo_graph.data]).T,\n",
    "    columns=(\"source\", \"target\", \"weight\"),\n",
    ")\n",
    "edge_df[\"source\"] = edge_df.source.astype(np.int32)\n",
    "edge_df[\"target\"] = edge_df.target.astype(np.int32)"
   ]
  },
  {
   "cell_type": "code",
   "execution_count": 13,
   "metadata": {},
   "outputs": [
    {
     "name": "stderr",
     "output_type": "stream",
     "text": [
      "C:\\ProgramData\\Anaconda3\\envs\\nnet_art\\lib\\site-packages\\ipykernel_launcher.py:5: UserWarning: Hammer edge bundling is expensive for large graphs!\n",
      "This may take a long time to compute!\n",
      "  \"\"\"\n"
     ]
    }
   ],
   "source": [
    "if edge_bundling is None:\n",
    "    edges = bd.directly_connect_edges(point_df, edge_df, weight=\"weight\")\n",
    "elif edge_bundling == \"hammer\":\n",
    "    warn(\n",
    "        \"Hammer edge bundling is expensive for large graphs!\\n\"\n",
    "        \"This may take a long time to compute!\"\n",
    "    )\n",
    "    edges = bd.hammer_bundle(point_df, edge_df, weight=\"weight\")\n",
    "else:\n",
    "    raise ValueError(\"{} is not a recognised bundling method\".format(edge_bundling))"
   ]
  },
  {
   "cell_type": "markdown",
   "metadata": {},
   "source": [
    "### Create the canvas and render the objects"
   ]
  },
  {
   "cell_type": "code",
   "execution_count": 34,
   "metadata": {},
   "outputs": [],
   "source": [
    "extent = umap.plot._get_extent(points)\n",
    "canvas = ds.Canvas(\n",
    "    plot_width=width,\n",
    "    plot_height=height,\n",
    "    x_range=(extent[0], extent[1]),\n",
    "    y_range=(extent[2], extent[3]),\n",
    ")"
   ]
  },
  {
   "cell_type": "code",
   "execution_count": 35,
   "metadata": {},
   "outputs": [],
   "source": [
    "# render the edges\n",
    "edge_img = tf.shade(\n",
    "    canvas.line(edges, \"x\", \"y\", agg=ds.sum(\"weight\")),\n",
    "    cmap=plt.get_cmap(edge_cmap),\n",
    "    how=edge_how,\n",
    ")\n",
    "\n",
    "# render the background\n",
    "edge_img = tf.set_background(edge_img, background)"
   ]
  },
  {
   "cell_type": "code",
   "execution_count": 36,
   "metadata": {},
   "outputs": [],
   "source": [
    "# render the points\n",
    "if show_points:\n",
    "    point_img = _datashade_points(\n",
    "        points,\n",
    "        None,\n",
    "        labels,\n",
    "        None,\n",
    "        cmap,\n",
    "        None,\n",
    "        color_key_cmap,\n",
    "        None,\n",
    "        width,\n",
    "        height,\n",
    "        False,\n",
    "    )\n",
    "    if px_size > 1:\n",
    "        point_img = tf.dynspread(point_img, threshold=0.9, max_px=px_size, how='add')\n",
    "    result = tf.stack(edge_img, point_img, how=\"over\")\n",
    "else:\n",
    "    result = edge_img"
   ]
  },
  {
   "cell_type": "code",
   "execution_count": 37,
   "metadata": {},
   "outputs": [],
   "source": [
    "result.to_pil().save('../data/{name}.png'.format(name=name))"
   ]
  },
  {
   "cell_type": "code",
   "execution_count": null,
   "metadata": {},
   "outputs": [],
   "source": []
  }
 ],
 "metadata": {
  "accelerator": "GPU",
  "colab": {
   "collapsed_sections": [],
   "name": "VAE_MNIST.ipynb",
   "provenance": [],
   "toc_visible": true
  },
  "kernelspec": {
   "display_name": "Python 3",
   "language": "python",
   "name": "python3"
  },
  "language_info": {
   "codemirror_mode": {
    "name": "ipython",
    "version": 3
   },
   "file_extension": ".py",
   "mimetype": "text/x-python",
   "name": "python",
   "nbconvert_exporter": "python",
   "pygments_lexer": "ipython3",
   "version": "3.7.10"
  },
  "widgets": {
   "application/vnd.jupyter.widget-state+json": {
    "031265afa26d4ec6b1ab5c7cff988cdb": {
     "model_module": "@jupyter-widgets/controls",
     "model_name": "DescriptionStyleModel",
     "state": {
      "_model_module": "@jupyter-widgets/controls",
      "_model_module_version": "1.5.0",
      "_model_name": "DescriptionStyleModel",
      "_view_count": null,
      "_view_module": "@jupyter-widgets/base",
      "_view_module_version": "1.2.0",
      "_view_name": "StyleView",
      "description_width": ""
     }
    },
    "04de8f0749fe4c29b4b4076beee8f55b": {
     "model_module": "@jupyter-widgets/base",
     "model_name": "LayoutModel",
     "state": {
      "_model_module": "@jupyter-widgets/base",
      "_model_module_version": "1.2.0",
      "_model_name": "LayoutModel",
      "_view_count": null,
      "_view_module": "@jupyter-widgets/base",
      "_view_module_version": "1.2.0",
      "_view_name": "LayoutView",
      "align_content": null,
      "align_items": null,
      "align_self": null,
      "border": null,
      "bottom": null,
      "display": null,
      "flex": null,
      "flex_flow": null,
      "grid_area": null,
      "grid_auto_columns": null,
      "grid_auto_flow": null,
      "grid_auto_rows": null,
      "grid_column": null,
      "grid_gap": null,
      "grid_row": null,
      "grid_template_areas": null,
      "grid_template_columns": null,
      "grid_template_rows": null,
      "height": null,
      "justify_content": null,
      "justify_items": null,
      "left": null,
      "margin": null,
      "max_height": null,
      "max_width": null,
      "min_height": null,
      "min_width": null,
      "object_fit": null,
      "object_position": null,
      "order": null,
      "overflow": null,
      "overflow_x": null,
      "overflow_y": null,
      "padding": null,
      "right": null,
      "top": null,
      "visibility": null,
      "width": null
     }
    },
    "214497818dad447bbea1ead62155041c": {
     "model_module": "@jupyter-widgets/base",
     "model_name": "LayoutModel",
     "state": {
      "_model_module": "@jupyter-widgets/base",
      "_model_module_version": "1.2.0",
      "_model_name": "LayoutModel",
      "_view_count": null,
      "_view_module": "@jupyter-widgets/base",
      "_view_module_version": "1.2.0",
      "_view_name": "LayoutView",
      "align_content": null,
      "align_items": null,
      "align_self": null,
      "border": null,
      "bottom": null,
      "display": null,
      "flex": null,
      "flex_flow": null,
      "grid_area": null,
      "grid_auto_columns": null,
      "grid_auto_flow": null,
      "grid_auto_rows": null,
      "grid_column": null,
      "grid_gap": null,
      "grid_row": null,
      "grid_template_areas": null,
      "grid_template_columns": null,
      "grid_template_rows": null,
      "height": null,
      "justify_content": null,
      "justify_items": null,
      "left": null,
      "margin": null,
      "max_height": null,
      "max_width": null,
      "min_height": null,
      "min_width": null,
      "object_fit": null,
      "object_position": null,
      "order": null,
      "overflow": null,
      "overflow_x": null,
      "overflow_y": null,
      "padding": null,
      "right": null,
      "top": null,
      "visibility": null,
      "width": null
     }
    },
    "2db75713acf74169acbbfcf86b6c87a0": {
     "model_module": "@jupyter-widgets/controls",
     "model_name": "ProgressStyleModel",
     "state": {
      "_model_module": "@jupyter-widgets/controls",
      "_model_module_version": "1.5.0",
      "_model_name": "ProgressStyleModel",
      "_view_count": null,
      "_view_module": "@jupyter-widgets/base",
      "_view_module_version": "1.2.0",
      "_view_name": "StyleView",
      "bar_color": null,
      "description_width": "initial"
     }
    },
    "2f74c334e79d4c48aea98fbc16a57c23": {
     "model_module": "@jupyter-widgets/controls",
     "model_name": "HTMLModel",
     "state": {
      "_dom_classes": [],
      "_model_module": "@jupyter-widgets/controls",
      "_model_module_version": "1.5.0",
      "_model_name": "HTMLModel",
      "_view_count": null,
      "_view_module": "@jupyter-widgets/controls",
      "_view_module_version": "1.5.0",
      "_view_name": "HTMLView",
      "description": "",
      "description_tooltip": null,
      "layout": "IPY_MODEL_f460a9421b534ce7a27a9e447f274201",
      "placeholder": "​",
      "style": "IPY_MODEL_4edf3c6005b7431a9fd22f16fd418624",
      "value": " 8192/? [00:00&lt;00:00, 10128.49it/s]"
     }
    },
    "30338ead3a9644dcb048de47a60e8143": {
     "model_module": "@jupyter-widgets/base",
     "model_name": "LayoutModel",
     "state": {
      "_model_module": "@jupyter-widgets/base",
      "_model_module_version": "1.2.0",
      "_model_name": "LayoutModel",
      "_view_count": null,
      "_view_module": "@jupyter-widgets/base",
      "_view_module_version": "1.2.0",
      "_view_name": "LayoutView",
      "align_content": null,
      "align_items": null,
      "align_self": null,
      "border": null,
      "bottom": null,
      "display": null,
      "flex": null,
      "flex_flow": null,
      "grid_area": null,
      "grid_auto_columns": null,
      "grid_auto_flow": null,
      "grid_auto_rows": null,
      "grid_column": null,
      "grid_gap": null,
      "grid_row": null,
      "grid_template_areas": null,
      "grid_template_columns": null,
      "grid_template_rows": null,
      "height": null,
      "justify_content": null,
      "justify_items": null,
      "left": null,
      "margin": null,
      "max_height": null,
      "max_width": null,
      "min_height": null,
      "min_width": null,
      "object_fit": null,
      "object_position": null,
      "order": null,
      "overflow": null,
      "overflow_x": null,
      "overflow_y": null,
      "padding": null,
      "right": null,
      "top": null,
      "visibility": null,
      "width": null
     }
    },
    "35469ea2b57a4d5aaa903d010c9c371c": {
     "model_module": "@jupyter-widgets/controls",
     "model_name": "HBoxModel",
     "state": {
      "_dom_classes": [],
      "_model_module": "@jupyter-widgets/controls",
      "_model_module_version": "1.5.0",
      "_model_name": "HBoxModel",
      "_view_count": null,
      "_view_module": "@jupyter-widgets/controls",
      "_view_module_version": "1.5.0",
      "_view_name": "HBoxView",
      "box_style": "",
      "children": [
       "IPY_MODEL_649771a8bb524df6b44b216cca5e9d51",
       "IPY_MODEL_45ddae6810954b59a993eb289bef6e6f"
      ],
      "layout": "IPY_MODEL_543786e7602d4e14821378d20e80a915"
     }
    },
    "4073764fd5a440a28b97ac2ed1cc9db5": {
     "model_module": "@jupyter-widgets/controls",
     "model_name": "HTMLModel",
     "state": {
      "_dom_classes": [],
      "_model_module": "@jupyter-widgets/controls",
      "_model_module_version": "1.5.0",
      "_model_name": "HTMLModel",
      "_view_count": null,
      "_view_module": "@jupyter-widgets/controls",
      "_view_module_version": "1.5.0",
      "_view_name": "HTMLView",
      "description": "",
      "description_tooltip": null,
      "layout": "IPY_MODEL_47513adb9d0948dc8f5f096d0d0c867b",
      "placeholder": "​",
      "style": "IPY_MODEL_031265afa26d4ec6b1ab5c7cff988cdb",
      "value": " 1654784/? [00:02&lt;00:00, 651234.50it/s]"
     }
    },
    "440a4e03df8d4d0f8e67312edd77b228": {
     "model_module": "@jupyter-widgets/base",
     "model_name": "LayoutModel",
     "state": {
      "_model_module": "@jupyter-widgets/base",
      "_model_module_version": "1.2.0",
      "_model_name": "LayoutModel",
      "_view_count": null,
      "_view_module": "@jupyter-widgets/base",
      "_view_module_version": "1.2.0",
      "_view_name": "LayoutView",
      "align_content": null,
      "align_items": null,
      "align_self": null,
      "border": null,
      "bottom": null,
      "display": null,
      "flex": null,
      "flex_flow": null,
      "grid_area": null,
      "grid_auto_columns": null,
      "grid_auto_flow": null,
      "grid_auto_rows": null,
      "grid_column": null,
      "grid_gap": null,
      "grid_row": null,
      "grid_template_areas": null,
      "grid_template_columns": null,
      "grid_template_rows": null,
      "height": null,
      "justify_content": null,
      "justify_items": null,
      "left": null,
      "margin": null,
      "max_height": null,
      "max_width": null,
      "min_height": null,
      "min_width": null,
      "object_fit": null,
      "object_position": null,
      "order": null,
      "overflow": null,
      "overflow_x": null,
      "overflow_y": null,
      "padding": null,
      "right": null,
      "top": null,
      "visibility": null,
      "width": null
     }
    },
    "45ddae6810954b59a993eb289bef6e6f": {
     "model_module": "@jupyter-widgets/controls",
     "model_name": "HTMLModel",
     "state": {
      "_dom_classes": [],
      "_model_module": "@jupyter-widgets/controls",
      "_model_module_version": "1.5.0",
      "_model_name": "HTMLModel",
      "_view_count": null,
      "_view_module": "@jupyter-widgets/controls",
      "_view_module_version": "1.5.0",
      "_view_name": "HTMLView",
      "description": "",
      "description_tooltip": null,
      "layout": "IPY_MODEL_30338ead3a9644dcb048de47a60e8143",
      "placeholder": "​",
      "style": "IPY_MODEL_627907c9e8c8491b9f97f23cc067c038",
      "value": " 32768/? [00:17&lt;00:00, 91979.91it/s]"
     }
    },
    "47513adb9d0948dc8f5f096d0d0c867b": {
     "model_module": "@jupyter-widgets/base",
     "model_name": "LayoutModel",
     "state": {
      "_model_module": "@jupyter-widgets/base",
      "_model_module_version": "1.2.0",
      "_model_name": "LayoutModel",
      "_view_count": null,
      "_view_module": "@jupyter-widgets/base",
      "_view_module_version": "1.2.0",
      "_view_name": "LayoutView",
      "align_content": null,
      "align_items": null,
      "align_self": null,
      "border": null,
      "bottom": null,
      "display": null,
      "flex": null,
      "flex_flow": null,
      "grid_area": null,
      "grid_auto_columns": null,
      "grid_auto_flow": null,
      "grid_auto_rows": null,
      "grid_column": null,
      "grid_gap": null,
      "grid_row": null,
      "grid_template_areas": null,
      "grid_template_columns": null,
      "grid_template_rows": null,
      "height": null,
      "justify_content": null,
      "justify_items": null,
      "left": null,
      "margin": null,
      "max_height": null,
      "max_width": null,
      "min_height": null,
      "min_width": null,
      "object_fit": null,
      "object_position": null,
      "order": null,
      "overflow": null,
      "overflow_x": null,
      "overflow_y": null,
      "padding": null,
      "right": null,
      "top": null,
      "visibility": null,
      "width": null
     }
    },
    "4dff4d919b2a478896996b3331bd136a": {
     "model_module": "@jupyter-widgets/base",
     "model_name": "LayoutModel",
     "state": {
      "_model_module": "@jupyter-widgets/base",
      "_model_module_version": "1.2.0",
      "_model_name": "LayoutModel",
      "_view_count": null,
      "_view_module": "@jupyter-widgets/base",
      "_view_module_version": "1.2.0",
      "_view_name": "LayoutView",
      "align_content": null,
      "align_items": null,
      "align_self": null,
      "border": null,
      "bottom": null,
      "display": null,
      "flex": null,
      "flex_flow": null,
      "grid_area": null,
      "grid_auto_columns": null,
      "grid_auto_flow": null,
      "grid_auto_rows": null,
      "grid_column": null,
      "grid_gap": null,
      "grid_row": null,
      "grid_template_areas": null,
      "grid_template_columns": null,
      "grid_template_rows": null,
      "height": null,
      "justify_content": null,
      "justify_items": null,
      "left": null,
      "margin": null,
      "max_height": null,
      "max_width": null,
      "min_height": null,
      "min_width": null,
      "object_fit": null,
      "object_position": null,
      "order": null,
      "overflow": null,
      "overflow_x": null,
      "overflow_y": null,
      "padding": null,
      "right": null,
      "top": null,
      "visibility": null,
      "width": null
     }
    },
    "4edf3c6005b7431a9fd22f16fd418624": {
     "model_module": "@jupyter-widgets/controls",
     "model_name": "DescriptionStyleModel",
     "state": {
      "_model_module": "@jupyter-widgets/controls",
      "_model_module_version": "1.5.0",
      "_model_name": "DescriptionStyleModel",
      "_view_count": null,
      "_view_module": "@jupyter-widgets/base",
      "_view_module_version": "1.2.0",
      "_view_name": "StyleView",
      "description_width": ""
     }
    },
    "52e39424474f4cadbc8d108137856100": {
     "model_module": "@jupyter-widgets/controls",
     "model_name": "HBoxModel",
     "state": {
      "_dom_classes": [],
      "_model_module": "@jupyter-widgets/controls",
      "_model_module_version": "1.5.0",
      "_model_name": "HBoxModel",
      "_view_count": null,
      "_view_module": "@jupyter-widgets/controls",
      "_view_module_version": "1.5.0",
      "_view_name": "HBoxView",
      "box_style": "",
      "children": [
       "IPY_MODEL_612eb9f77c1a4cb9b6f25c621fb86817",
       "IPY_MODEL_4073764fd5a440a28b97ac2ed1cc9db5"
      ],
      "layout": "IPY_MODEL_440a4e03df8d4d0f8e67312edd77b228"
     }
    },
    "543786e7602d4e14821378d20e80a915": {
     "model_module": "@jupyter-widgets/base",
     "model_name": "LayoutModel",
     "state": {
      "_model_module": "@jupyter-widgets/base",
      "_model_module_version": "1.2.0",
      "_model_name": "LayoutModel",
      "_view_count": null,
      "_view_module": "@jupyter-widgets/base",
      "_view_module_version": "1.2.0",
      "_view_name": "LayoutView",
      "align_content": null,
      "align_items": null,
      "align_self": null,
      "border": null,
      "bottom": null,
      "display": null,
      "flex": null,
      "flex_flow": null,
      "grid_area": null,
      "grid_auto_columns": null,
      "grid_auto_flow": null,
      "grid_auto_rows": null,
      "grid_column": null,
      "grid_gap": null,
      "grid_row": null,
      "grid_template_areas": null,
      "grid_template_columns": null,
      "grid_template_rows": null,
      "height": null,
      "justify_content": null,
      "justify_items": null,
      "left": null,
      "margin": null,
      "max_height": null,
      "max_width": null,
      "min_height": null,
      "min_width": null,
      "object_fit": null,
      "object_position": null,
      "order": null,
      "overflow": null,
      "overflow_x": null,
      "overflow_y": null,
      "padding": null,
      "right": null,
      "top": null,
      "visibility": null,
      "width": null
     }
    },
    "550a1d3a77384717822334ee79a54210": {
     "model_module": "@jupyter-widgets/controls",
     "model_name": "HBoxModel",
     "state": {
      "_dom_classes": [],
      "_model_module": "@jupyter-widgets/controls",
      "_model_module_version": "1.5.0",
      "_model_name": "HBoxModel",
      "_view_count": null,
      "_view_module": "@jupyter-widgets/controls",
      "_view_module_version": "1.5.0",
      "_view_name": "HBoxView",
      "box_style": "",
      "children": [
       "IPY_MODEL_a8f285b82065482982d270b7d5fec723",
       "IPY_MODEL_2f74c334e79d4c48aea98fbc16a57c23"
      ],
      "layout": "IPY_MODEL_04de8f0749fe4c29b4b4076beee8f55b"
     }
    },
    "5614716f142843148e2e23482ffb2f82": {
     "model_module": "@jupyter-widgets/controls",
     "model_name": "FloatProgressModel",
     "state": {
      "_dom_classes": [],
      "_model_module": "@jupyter-widgets/controls",
      "_model_module_version": "1.5.0",
      "_model_name": "FloatProgressModel",
      "_view_count": null,
      "_view_module": "@jupyter-widgets/controls",
      "_view_module_version": "1.5.0",
      "_view_name": "ProgressView",
      "bar_style": "success",
      "description": "",
      "description_tooltip": null,
      "layout": "IPY_MODEL_4dff4d919b2a478896996b3331bd136a",
      "max": 1,
      "min": 0,
      "orientation": "horizontal",
      "style": "IPY_MODEL_efa8aa0e6fc0445787294d2f6b5a0ddb",
      "value": 1
     }
    },
    "612eb9f77c1a4cb9b6f25c621fb86817": {
     "model_module": "@jupyter-widgets/controls",
     "model_name": "FloatProgressModel",
     "state": {
      "_dom_classes": [],
      "_model_module": "@jupyter-widgets/controls",
      "_model_module_version": "1.5.0",
      "_model_name": "FloatProgressModel",
      "_view_count": null,
      "_view_module": "@jupyter-widgets/controls",
      "_view_module_version": "1.5.0",
      "_view_name": "ProgressView",
      "bar_style": "success",
      "description": "",
      "description_tooltip": null,
      "layout": "IPY_MODEL_da53ea1b8ef14d8ca099052666155532",
      "max": 1,
      "min": 0,
      "orientation": "horizontal",
      "style": "IPY_MODEL_2db75713acf74169acbbfcf86b6c87a0",
      "value": 1
     }
    },
    "627907c9e8c8491b9f97f23cc067c038": {
     "model_module": "@jupyter-widgets/controls",
     "model_name": "DescriptionStyleModel",
     "state": {
      "_model_module": "@jupyter-widgets/controls",
      "_model_module_version": "1.5.0",
      "_model_name": "DescriptionStyleModel",
      "_view_count": null,
      "_view_module": "@jupyter-widgets/base",
      "_view_module_version": "1.2.0",
      "_view_name": "StyleView",
      "description_width": ""
     }
    },
    "649771a8bb524df6b44b216cca5e9d51": {
     "model_module": "@jupyter-widgets/controls",
     "model_name": "FloatProgressModel",
     "state": {
      "_dom_classes": [],
      "_model_module": "@jupyter-widgets/controls",
      "_model_module_version": "1.5.0",
      "_model_name": "FloatProgressModel",
      "_view_count": null,
      "_view_module": "@jupyter-widgets/controls",
      "_view_module_version": "1.5.0",
      "_view_name": "ProgressView",
      "bar_style": "info",
      "description": "",
      "description_tooltip": null,
      "layout": "IPY_MODEL_6c41c0323e314eb4a6d710b4e21b36b0",
      "max": 1,
      "min": 0,
      "orientation": "horizontal",
      "style": "IPY_MODEL_f565add4b8c146b9919153ca87da3545",
      "value": 1
     }
    },
    "6c41c0323e314eb4a6d710b4e21b36b0": {
     "model_module": "@jupyter-widgets/base",
     "model_name": "LayoutModel",
     "state": {
      "_model_module": "@jupyter-widgets/base",
      "_model_module_version": "1.2.0",
      "_model_name": "LayoutModel",
      "_view_count": null,
      "_view_module": "@jupyter-widgets/base",
      "_view_module_version": "1.2.0",
      "_view_name": "LayoutView",
      "align_content": null,
      "align_items": null,
      "align_self": null,
      "border": null,
      "bottom": null,
      "display": null,
      "flex": null,
      "flex_flow": null,
      "grid_area": null,
      "grid_auto_columns": null,
      "grid_auto_flow": null,
      "grid_auto_rows": null,
      "grid_column": null,
      "grid_gap": null,
      "grid_row": null,
      "grid_template_areas": null,
      "grid_template_columns": null,
      "grid_template_rows": null,
      "height": null,
      "justify_content": null,
      "justify_items": null,
      "left": null,
      "margin": null,
      "max_height": null,
      "max_width": null,
      "min_height": null,
      "min_width": null,
      "object_fit": null,
      "object_position": null,
      "order": null,
      "overflow": null,
      "overflow_x": null,
      "overflow_y": null,
      "padding": null,
      "right": null,
      "top": null,
      "visibility": null,
      "width": null
     }
    },
    "847e04e040f64a6282cb5a648ad712f9": {
     "model_module": "@jupyter-widgets/base",
     "model_name": "LayoutModel",
     "state": {
      "_model_module": "@jupyter-widgets/base",
      "_model_module_version": "1.2.0",
      "_model_name": "LayoutModel",
      "_view_count": null,
      "_view_module": "@jupyter-widgets/base",
      "_view_module_version": "1.2.0",
      "_view_name": "LayoutView",
      "align_content": null,
      "align_items": null,
      "align_self": null,
      "border": null,
      "bottom": null,
      "display": null,
      "flex": null,
      "flex_flow": null,
      "grid_area": null,
      "grid_auto_columns": null,
      "grid_auto_flow": null,
      "grid_auto_rows": null,
      "grid_column": null,
      "grid_gap": null,
      "grid_row": null,
      "grid_template_areas": null,
      "grid_template_columns": null,
      "grid_template_rows": null,
      "height": null,
      "justify_content": null,
      "justify_items": null,
      "left": null,
      "margin": null,
      "max_height": null,
      "max_width": null,
      "min_height": null,
      "min_width": null,
      "object_fit": null,
      "object_position": null,
      "order": null,
      "overflow": null,
      "overflow_x": null,
      "overflow_y": null,
      "padding": null,
      "right": null,
      "top": null,
      "visibility": null,
      "width": null
     }
    },
    "86703ac3319b4b00bae27cf8762b4940": {
     "model_module": "@jupyter-widgets/base",
     "model_name": "LayoutModel",
     "state": {
      "_model_module": "@jupyter-widgets/base",
      "_model_module_version": "1.2.0",
      "_model_name": "LayoutModel",
      "_view_count": null,
      "_view_module": "@jupyter-widgets/base",
      "_view_module_version": "1.2.0",
      "_view_name": "LayoutView",
      "align_content": null,
      "align_items": null,
      "align_self": null,
      "border": null,
      "bottom": null,
      "display": null,
      "flex": null,
      "flex_flow": null,
      "grid_area": null,
      "grid_auto_columns": null,
      "grid_auto_flow": null,
      "grid_auto_rows": null,
      "grid_column": null,
      "grid_gap": null,
      "grid_row": null,
      "grid_template_areas": null,
      "grid_template_columns": null,
      "grid_template_rows": null,
      "height": null,
      "justify_content": null,
      "justify_items": null,
      "left": null,
      "margin": null,
      "max_height": null,
      "max_width": null,
      "min_height": null,
      "min_width": null,
      "object_fit": null,
      "object_position": null,
      "order": null,
      "overflow": null,
      "overflow_x": null,
      "overflow_y": null,
      "padding": null,
      "right": null,
      "top": null,
      "visibility": null,
      "width": null
     }
    },
    "8b3deb1d17b845de842b950483274fe3": {
     "model_module": "@jupyter-widgets/controls",
     "model_name": "ProgressStyleModel",
     "state": {
      "_model_module": "@jupyter-widgets/controls",
      "_model_module_version": "1.5.0",
      "_model_name": "ProgressStyleModel",
      "_view_count": null,
      "_view_module": "@jupyter-widgets/base",
      "_view_module_version": "1.2.0",
      "_view_name": "StyleView",
      "bar_color": null,
      "description_width": "initial"
     }
    },
    "9fe90e309cd9429891fc1ea2ffd7228d": {
     "model_module": "@jupyter-widgets/controls",
     "model_name": "DescriptionStyleModel",
     "state": {
      "_model_module": "@jupyter-widgets/controls",
      "_model_module_version": "1.5.0",
      "_model_name": "DescriptionStyleModel",
      "_view_count": null,
      "_view_module": "@jupyter-widgets/base",
      "_view_module_version": "1.2.0",
      "_view_name": "StyleView",
      "description_width": ""
     }
    },
    "a8f285b82065482982d270b7d5fec723": {
     "model_module": "@jupyter-widgets/controls",
     "model_name": "FloatProgressModel",
     "state": {
      "_dom_classes": [],
      "_model_module": "@jupyter-widgets/controls",
      "_model_module_version": "1.5.0",
      "_model_name": "FloatProgressModel",
      "_view_count": null,
      "_view_module": "@jupyter-widgets/controls",
      "_view_module_version": "1.5.0",
      "_view_name": "ProgressView",
      "bar_style": "success",
      "description": "",
      "description_tooltip": null,
      "layout": "IPY_MODEL_86703ac3319b4b00bae27cf8762b4940",
      "max": 1,
      "min": 0,
      "orientation": "horizontal",
      "style": "IPY_MODEL_8b3deb1d17b845de842b950483274fe3",
      "value": 1
     }
    },
    "da53ea1b8ef14d8ca099052666155532": {
     "model_module": "@jupyter-widgets/base",
     "model_name": "LayoutModel",
     "state": {
      "_model_module": "@jupyter-widgets/base",
      "_model_module_version": "1.2.0",
      "_model_name": "LayoutModel",
      "_view_count": null,
      "_view_module": "@jupyter-widgets/base",
      "_view_module_version": "1.2.0",
      "_view_name": "LayoutView",
      "align_content": null,
      "align_items": null,
      "align_self": null,
      "border": null,
      "bottom": null,
      "display": null,
      "flex": null,
      "flex_flow": null,
      "grid_area": null,
      "grid_auto_columns": null,
      "grid_auto_flow": null,
      "grid_auto_rows": null,
      "grid_column": null,
      "grid_gap": null,
      "grid_row": null,
      "grid_template_areas": null,
      "grid_template_columns": null,
      "grid_template_rows": null,
      "height": null,
      "justify_content": null,
      "justify_items": null,
      "left": null,
      "margin": null,
      "max_height": null,
      "max_width": null,
      "min_height": null,
      "min_width": null,
      "object_fit": null,
      "object_position": null,
      "order": null,
      "overflow": null,
      "overflow_x": null,
      "overflow_y": null,
      "padding": null,
      "right": null,
      "top": null,
      "visibility": null,
      "width": null
     }
    },
    "efa8aa0e6fc0445787294d2f6b5a0ddb": {
     "model_module": "@jupyter-widgets/controls",
     "model_name": "ProgressStyleModel",
     "state": {
      "_model_module": "@jupyter-widgets/controls",
      "_model_module_version": "1.5.0",
      "_model_name": "ProgressStyleModel",
      "_view_count": null,
      "_view_module": "@jupyter-widgets/base",
      "_view_module_version": "1.2.0",
      "_view_name": "StyleView",
      "bar_color": null,
      "description_width": "initial"
     }
    },
    "f121289fe6014cddbdd68e642538d452": {
     "model_module": "@jupyter-widgets/controls",
     "model_name": "HBoxModel",
     "state": {
      "_dom_classes": [],
      "_model_module": "@jupyter-widgets/controls",
      "_model_module_version": "1.5.0",
      "_model_name": "HBoxModel",
      "_view_count": null,
      "_view_module": "@jupyter-widgets/controls",
      "_view_module_version": "1.5.0",
      "_view_name": "HBoxView",
      "box_style": "",
      "children": [
       "IPY_MODEL_5614716f142843148e2e23482ffb2f82",
       "IPY_MODEL_fb5d80053df1495392d95a8db355ed63"
      ],
      "layout": "IPY_MODEL_847e04e040f64a6282cb5a648ad712f9"
     }
    },
    "f460a9421b534ce7a27a9e447f274201": {
     "model_module": "@jupyter-widgets/base",
     "model_name": "LayoutModel",
     "state": {
      "_model_module": "@jupyter-widgets/base",
      "_model_module_version": "1.2.0",
      "_model_name": "LayoutModel",
      "_view_count": null,
      "_view_module": "@jupyter-widgets/base",
      "_view_module_version": "1.2.0",
      "_view_name": "LayoutView",
      "align_content": null,
      "align_items": null,
      "align_self": null,
      "border": null,
      "bottom": null,
      "display": null,
      "flex": null,
      "flex_flow": null,
      "grid_area": null,
      "grid_auto_columns": null,
      "grid_auto_flow": null,
      "grid_auto_rows": null,
      "grid_column": null,
      "grid_gap": null,
      "grid_row": null,
      "grid_template_areas": null,
      "grid_template_columns": null,
      "grid_template_rows": null,
      "height": null,
      "justify_content": null,
      "justify_items": null,
      "left": null,
      "margin": null,
      "max_height": null,
      "max_width": null,
      "min_height": null,
      "min_width": null,
      "object_fit": null,
      "object_position": null,
      "order": null,
      "overflow": null,
      "overflow_x": null,
      "overflow_y": null,
      "padding": null,
      "right": null,
      "top": null,
      "visibility": null,
      "width": null
     }
    },
    "f565add4b8c146b9919153ca87da3545": {
     "model_module": "@jupyter-widgets/controls",
     "model_name": "ProgressStyleModel",
     "state": {
      "_model_module": "@jupyter-widgets/controls",
      "_model_module_version": "1.5.0",
      "_model_name": "ProgressStyleModel",
      "_view_count": null,
      "_view_module": "@jupyter-widgets/base",
      "_view_module_version": "1.2.0",
      "_view_name": "StyleView",
      "bar_color": null,
      "description_width": "initial"
     }
    },
    "fb5d80053df1495392d95a8db355ed63": {
     "model_module": "@jupyter-widgets/controls",
     "model_name": "HTMLModel",
     "state": {
      "_dom_classes": [],
      "_model_module": "@jupyter-widgets/controls",
      "_model_module_version": "1.5.0",
      "_model_name": "HTMLModel",
      "_view_count": null,
      "_view_module": "@jupyter-widgets/controls",
      "_view_module_version": "1.5.0",
      "_view_name": "HTMLView",
      "description": "",
      "description_tooltip": null,
      "layout": "IPY_MODEL_214497818dad447bbea1ead62155041c",
      "placeholder": "​",
      "style": "IPY_MODEL_9fe90e309cd9429891fc1ea2ffd7228d",
      "value": " 9920512/? [00:02&lt;00:00, 3369323.55it/s]"
     }
    }
   }
  }
 },
 "nbformat": 4,
 "nbformat_minor": 4
}
